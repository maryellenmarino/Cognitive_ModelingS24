{
 "cells": [
  {
   "cell_type": "markdown",
   "metadata": {},
   "source": [
    "# NHANES Diabetes Prediction Model\n",
    "- 1 in 5 people don't know they have diabetes. \n",
    "- Diabetes is the #8 leading cause of death in the United States. \n",
    "- People with diabetes pay 2x higher medical bills  \n",
    "\n",
    "Creating accurate predictive models to help individuals quickly identify diabetes could be pivotal in their lives, and help get them medical attention. "
   ]
  },
  {
   "cell_type": "markdown",
   "metadata": {},
   "source": [
    "## Read in Libraries"
   ]
  },
  {
   "cell_type": "code",
   "execution_count": 92,
   "metadata": {},
   "outputs": [],
   "source": [
    "# load in necessary libraries\n",
    "import pandas as pd\n",
    "from sklearn.model_selection import train_test_split\n",
    "from sklearn.preprocessing import StandardScaler, OneHotEncoder\n",
    "from sklearn.compose import ColumnTransformer\n",
    "from tensorflow import keras\n",
    "import tensorflow as tf"
   ]
  },
  {
   "cell_type": "markdown",
   "metadata": {},
   "source": [
    "## Read in the Data\n",
    "Note: Data pre-processed in R and saved to csv to use for further analysis here."
   ]
  },
  {
   "cell_type": "code",
   "execution_count": 93,
   "metadata": {},
   "outputs": [
    {
     "data": {
      "text/html": [
       "<div>\n",
       "<style scoped>\n",
       "    .dataframe tbody tr th:only-of-type {\n",
       "        vertical-align: middle;\n",
       "    }\n",
       "\n",
       "    .dataframe tbody tr th {\n",
       "        vertical-align: top;\n",
       "    }\n",
       "\n",
       "    .dataframe thead th {\n",
       "        text-align: right;\n",
       "    }\n",
       "</style>\n",
       "<table border=\"1\" class=\"dataframe\">\n",
       "  <thead>\n",
       "    <tr style=\"text-align: right;\">\n",
       "      <th></th>\n",
       "      <th>Unnamed: 0</th>\n",
       "      <th>blood_cholesterol_mg_per_dc</th>\n",
       "      <th>blood_glycosylated_hemoglobin_volume_percentage</th>\n",
       "      <th>family_income</th>\n",
       "      <th>household_adults_60_years_plus</th>\n",
       "      <th>household_children_6_17_years</th>\n",
       "      <th>household_income</th>\n",
       "      <th>household_ref_person_age_year</th>\n",
       "      <th>household_ref_person_biological_sex</th>\n",
       "      <th>household_ref_person_education</th>\n",
       "      <th>...</th>\n",
       "      <th>subject_education</th>\n",
       "      <th>subject_high_blood_pressure</th>\n",
       "      <th>subject_2_year_weight_screening_time</th>\n",
       "      <th>subject_2_year_mec_weight_mec_time</th>\n",
       "      <th>subject_insurance</th>\n",
       "      <th>subject_masked_variance_pseudo_psu</th>\n",
       "      <th>subject_masked_variance_pseudo_stratum</th>\n",
       "      <th>subject_prescription_coverage</th>\n",
       "      <th>subject_race_ethnicity</th>\n",
       "      <th>diagnosis</th>\n",
       "    </tr>\n",
       "  </thead>\n",
       "  <tbody>\n",
       "    <tr>\n",
       "      <th>0</th>\n",
       "      <td>4331</td>\n",
       "      <td>168</td>\n",
       "      <td>5.5</td>\n",
       "      <td>$65,000 to $74,999</td>\n",
       "      <td>1</td>\n",
       "      <td>0</td>\n",
       "      <td>$65,000 to $74,999</td>\n",
       "      <td>61</td>\n",
       "      <td>2</td>\n",
       "      <td>College graduate or above</td>\n",
       "      <td>...</td>\n",
       "      <td>College graduate or above</td>\n",
       "      <td>Yes</td>\n",
       "      <td>60325.09525</td>\n",
       "      <td>61758.65488</td>\n",
       "      <td>Covered by state-sponsored health plan</td>\n",
       "      <td>1</td>\n",
       "      <td>114</td>\n",
       "      <td>Yes</td>\n",
       "      <td>White Hispanic</td>\n",
       "      <td>False</td>\n",
       "    </tr>\n",
       "    <tr>\n",
       "      <th>1</th>\n",
       "      <td>4332</td>\n",
       "      <td>168</td>\n",
       "      <td>5.2</td>\n",
       "      <td>$100,000 and Over</td>\n",
       "      <td>0</td>\n",
       "      <td>0</td>\n",
       "      <td>$100,000 and Over</td>\n",
       "      <td>26</td>\n",
       "      <td>2</td>\n",
       "      <td>College graduate or above</td>\n",
       "      <td>...</td>\n",
       "      <td>College graduate or above</td>\n",
       "      <td>No</td>\n",
       "      <td>89514.43322</td>\n",
       "      <td>91523.51605</td>\n",
       "      <td>Covered by private insurance</td>\n",
       "      <td>2</td>\n",
       "      <td>113</td>\n",
       "      <td>Yes</td>\n",
       "      <td>White Hispanic</td>\n",
       "      <td>False</td>\n",
       "    </tr>\n",
       "    <tr>\n",
       "      <th>2</th>\n",
       "      <td>4333</td>\n",
       "      <td>131</td>\n",
       "      <td>5.0</td>\n",
       "      <td>$45,000 to $54,999</td>\n",
       "      <td>0</td>\n",
       "      <td>1</td>\n",
       "      <td>$45,000 to $54,999</td>\n",
       "      <td>33</td>\n",
       "      <td>2</td>\n",
       "      <td>College graduate or above</td>\n",
       "      <td>...</td>\n",
       "      <td>College graduate or above</td>\n",
       "      <td>No</td>\n",
       "      <td>14155.31300</td>\n",
       "      <td>15397.21985</td>\n",
       "      <td>Covered by private insurance</td>\n",
       "      <td>2</td>\n",
       "      <td>114</td>\n",
       "      <td>Yes</td>\n",
       "      <td>Non-White</td>\n",
       "      <td>False</td>\n",
       "    </tr>\n",
       "    <tr>\n",
       "      <th>3</th>\n",
       "      <td>4334</td>\n",
       "      <td>154</td>\n",
       "      <td>5.1</td>\n",
       "      <td>$45,000 to $54,999</td>\n",
       "      <td>0</td>\n",
       "      <td>2</td>\n",
       "      <td>$45,000 to $54,999</td>\n",
       "      <td>35</td>\n",
       "      <td>2</td>\n",
       "      <td>Some college or AA degree</td>\n",
       "      <td>...</td>\n",
       "      <td>9th grade</td>\n",
       "      <td>No</td>\n",
       "      <td>12433.74874</td>\n",
       "      <td>12665.77009</td>\n",
       "      <td>Covered by private insurance</td>\n",
       "      <td>1</td>\n",
       "      <td>104</td>\n",
       "      <td>Yes</td>\n",
       "      <td>White Hispanic</td>\n",
       "      <td>False</td>\n",
       "    </tr>\n",
       "    <tr>\n",
       "      <th>4</th>\n",
       "      <td>4336</td>\n",
       "      <td>225</td>\n",
       "      <td>5.8</td>\n",
       "      <td>$20,000 and Over</td>\n",
       "      <td>0</td>\n",
       "      <td>3</td>\n",
       "      <td>$20,000 and Over</td>\n",
       "      <td>38</td>\n",
       "      <td>2</td>\n",
       "      <td>High school graduate/GED or equivalent</td>\n",
       "      <td>...</td>\n",
       "      <td>High school graduate/GED or equivalent</td>\n",
       "      <td>No</td>\n",
       "      <td>27388.92069</td>\n",
       "      <td>27196.63839</td>\n",
       "      <td>Covered by private insurance</td>\n",
       "      <td>2</td>\n",
       "      <td>116</td>\n",
       "      <td>Yes</td>\n",
       "      <td>White Hispanic</td>\n",
       "      <td>False</td>\n",
       "    </tr>\n",
       "  </tbody>\n",
       "</table>\n",
       "<p>5 rows × 22 columns</p>\n",
       "</div>"
      ],
      "text/plain": [
       "   Unnamed: 0  blood_cholesterol_mg_per_dc  \\\n",
       "0        4331                          168   \n",
       "1        4332                          168   \n",
       "2        4333                          131   \n",
       "3        4334                          154   \n",
       "4        4336                          225   \n",
       "\n",
       "   blood_glycosylated_hemoglobin_volume_percentage       family_income  \\\n",
       "0                                              5.5  $65,000 to $74,999   \n",
       "1                                              5.2   $100,000 and Over   \n",
       "2                                              5.0  $45,000 to $54,999   \n",
       "3                                              5.1  $45,000 to $54,999   \n",
       "4                                              5.8    $20,000 and Over   \n",
       "\n",
       "   household_adults_60_years_plus  household_children_6_17_years  \\\n",
       "0                               1                              0   \n",
       "1                               0                              0   \n",
       "2                               0                              1   \n",
       "3                               0                              2   \n",
       "4                               0                              3   \n",
       "\n",
       "     household_income  household_ref_person_age_year  \\\n",
       "0  $65,000 to $74,999                             61   \n",
       "1   $100,000 and Over                             26   \n",
       "2  $45,000 to $54,999                             33   \n",
       "3  $45,000 to $54,999                             35   \n",
       "4    $20,000 and Over                             38   \n",
       "\n",
       "   household_ref_person_biological_sex  \\\n",
       "0                                    2   \n",
       "1                                    2   \n",
       "2                                    2   \n",
       "3                                    2   \n",
       "4                                    2   \n",
       "\n",
       "           household_ref_person_education  ...  \\\n",
       "0               College graduate or above  ...   \n",
       "1               College graduate or above  ...   \n",
       "2               College graduate or above  ...   \n",
       "3               Some college or AA degree  ...   \n",
       "4  High school graduate/GED or equivalent  ...   \n",
       "\n",
       "                        subject_education subject_high_blood_pressure  \\\n",
       "0               College graduate or above                         Yes   \n",
       "1               College graduate or above                          No   \n",
       "2               College graduate or above                          No   \n",
       "3                               9th grade                          No   \n",
       "4  High school graduate/GED or equivalent                          No   \n",
       "\n",
       "  subject_2_year_weight_screening_time subject_2_year_mec_weight_mec_time  \\\n",
       "0                          60325.09525                        61758.65488   \n",
       "1                          89514.43322                        91523.51605   \n",
       "2                          14155.31300                        15397.21985   \n",
       "3                          12433.74874                        12665.77009   \n",
       "4                          27388.92069                        27196.63839   \n",
       "\n",
       "                        subject_insurance  subject_masked_variance_pseudo_psu  \\\n",
       "0  Covered by state-sponsored health plan                                   1   \n",
       "1            Covered by private insurance                                   2   \n",
       "2            Covered by private insurance                                   2   \n",
       "3            Covered by private insurance                                   1   \n",
       "4            Covered by private insurance                                   2   \n",
       "\n",
       "  subject_masked_variance_pseudo_stratum  subject_prescription_coverage  \\\n",
       "0                                    114                            Yes   \n",
       "1                                    113                            Yes   \n",
       "2                                    114                            Yes   \n",
       "3                                    104                            Yes   \n",
       "4                                    116                            Yes   \n",
       "\n",
       "   subject_race_ethnicity diagnosis  \n",
       "0          White Hispanic     False  \n",
       "1          White Hispanic     False  \n",
       "2               Non-White     False  \n",
       "3          White Hispanic     False  \n",
       "4          White Hispanic     False  \n",
       "\n",
       "[5 rows x 22 columns]"
      ]
     },
     "execution_count": 93,
     "metadata": {},
     "output_type": "execute_result"
    }
   ],
   "source": [
    "data = pd.read_csv('nhanes_cleaned.csv')\n",
    "data.head()"
   ]
  },
  {
   "cell_type": "markdown",
   "metadata": {},
   "source": [
    "## Further Data Pre-processing"
   ]
  },
  {
   "cell_type": "code",
   "execution_count": 94,
   "metadata": {},
   "outputs": [],
   "source": [
    "# Define numerical and categorical features\n",
    "numerical_cols = data.select_dtypes(include=['int64', 'float64']).columns.tolist()\n",
    "categorical_cols = data.select_dtypes(include=['object']).columns.tolist()\n",
    "\n",
    "# Preprocessing for numerical data\n",
    "numerical_transformer = StandardScaler()\n",
    "\n",
    "# Preprocessing for categorical data\n",
    "categorical_transformer = OneHotEncoder(handle_unknown='ignore', sparse_output=False)\n",
    "\n",
    "# Bundle preprocessing for numerical and categorical data\n",
    "preprocessor = ColumnTransformer(\n",
    "    transformers=[\n",
    "        ('num', numerical_transformer, numerical_cols),\n",
    "        ('cat', categorical_transformer, categorical_cols)\n",
    "    ])"
   ]
  },
  {
   "cell_type": "markdown",
   "metadata": {},
   "source": [
    "## Create Model"
   ]
  },
  {
   "cell_type": "code",
   "execution_count": 95,
   "metadata": {},
   "outputs": [],
   "source": [
    "# Create a new model using TensorFlow/Keras, more similar to your class example\n",
    "def build_model(input_shape):\n",
    "    model = keras.Sequential([\n",
    "        keras.layers.Dense(128, activation='relu', input_shape=[input_shape]),\n",
    "        keras.layers.Dropout(0.1),\n",
    "        keras.layers.Dense(128, activation='relu'),\n",
    "        keras.layers.Dropout(0.1),\n",
    "        keras.layers.Dense(128, activation='relu'),\n",
    "        keras.layers.Dropout(0.1),\n",
    "        keras.layers.Dense(128, activation='relu'),\n",
    "        keras.layers.Dense(1, activation='sigmoid')\n",
    "    ])\n",
    "    model.compile(optimizer='adam', loss='binary_crossentropy', metrics=['accuracy'])\n",
    "    return model"
   ]
  },
  {
   "cell_type": "markdown",
   "metadata": {},
   "source": [
    "## Split Data and Fit"
   ]
  },
  {
   "cell_type": "code",
   "execution_count": 96,
   "metadata": {},
   "outputs": [],
   "source": [
    "# Split data into X and y\n",
    "X = data.drop('diagnosis', axis=1)\n",
    "y = data['diagnosis'].astype(int)  # for binary classification\n",
    "\n",
    "# Split data into train and test sets\n",
    "X_train, X_test, y_train, y_test = train_test_split(X, y, test_size=0.2, random_state=0)\n",
    "\n",
    "# Fit the preprocessor to the training data and transform it\n",
    "X_train_transformed = preprocessor.fit_transform(X_train)\n",
    "X_test_transformed = preprocessor.transform(X_test)\n",
    "\n",
    "# Further split the training data into training and validation sets\n",
    "X_train_final, X_val, y_train_final, y_val = train_test_split(X_train_transformed, y_train, test_size=0.2, random_state=42)\n",
    "\n",
    "# Get the number of features from the transformed data\n",
    "input_shape = X_train_transformed.shape[1]"
   ]
  },
  {
   "cell_type": "markdown",
   "metadata": {},
   "source": [
    "## Build and Fit Model"
   ]
  },
  {
   "cell_type": "code",
   "execution_count": 97,
   "metadata": {},
   "outputs": [
    {
     "name": "stdout",
     "output_type": "stream",
     "text": [
      "Epoch 1/10\n",
      "68/68 [==============================] - 1s 2ms/step - loss: 0.2860 - accuracy: 0.8902 - val_loss: 0.2043 - val_accuracy: 0.9301\n",
      "Epoch 2/10\n",
      "68/68 [==============================] - 0s 1ms/step - loss: 0.1723 - accuracy: 0.9430 - val_loss: 0.1787 - val_accuracy: 0.9375\n",
      "Epoch 3/10\n",
      "68/68 [==============================] - 0s 1ms/step - loss: 0.1540 - accuracy: 0.9435 - val_loss: 0.1812 - val_accuracy: 0.9357\n",
      "Epoch 4/10\n",
      "68/68 [==============================] - 0s 1ms/step - loss: 0.1407 - accuracy: 0.9485 - val_loss: 0.1943 - val_accuracy: 0.9301\n",
      "Epoch 5/10\n",
      "68/68 [==============================] - 0s 1ms/step - loss: 0.1241 - accuracy: 0.9550 - val_loss: 0.1828 - val_accuracy: 0.9430\n",
      "Epoch 6/10\n",
      "68/68 [==============================] - 0s 1ms/step - loss: 0.1086 - accuracy: 0.9660 - val_loss: 0.1931 - val_accuracy: 0.9412\n",
      "Epoch 7/10\n",
      "68/68 [==============================] - 0s 1ms/step - loss: 0.0982 - accuracy: 0.9674 - val_loss: 0.2162 - val_accuracy: 0.9228\n",
      "Epoch 8/10\n",
      "68/68 [==============================] - 0s 1ms/step - loss: 0.0973 - accuracy: 0.9655 - val_loss: 0.2213 - val_accuracy: 0.9265\n",
      "Epoch 9/10\n",
      "68/68 [==============================] - 0s 1ms/step - loss: 0.0753 - accuracy: 0.9743 - val_loss: 0.2490 - val_accuracy: 0.9228\n",
      "Epoch 10/10\n",
      "68/68 [==============================] - 0s 1ms/step - loss: 0.0742 - accuracy: 0.9733 - val_loss: 0.2431 - val_accuracy: 0.9246\n"
     ]
    },
    {
     "data": {
      "text/plain": [
       "<keras.src.callbacks.History at 0x7fc9c0525690>"
      ]
     },
     "execution_count": 97,
     "metadata": {},
     "output_type": "execute_result"
    }
   ],
   "source": [
    "# Build the model\n",
    "model = build_model(input_shape)\n",
    "\n",
    "# Fit the model\n",
    "model.fit(X_train_final, y_train_final, epochs=10, validation_data=(X_val, y_val))"
   ]
  },
  {
   "cell_type": "markdown",
   "metadata": {},
   "source": [
    "## Evaluation of Model"
   ]
  },
  {
   "cell_type": "code",
   "execution_count": 98,
   "metadata": {},
   "outputs": [
    {
     "name": "stdout",
     "output_type": "stream",
     "text": [
      "22/22 [==============================] - 0s 699us/step - loss: 0.2433 - accuracy: 0.9413\n",
      "Accuracy: 0.9412628412246704\n"
     ]
    }
   ],
   "source": [
    "# Evaluate the model on the test data\n",
    "loss, accuracy = model.evaluate(X_test_transformed, y_test)\n",
    "print(\"Accuracy:\", accuracy)"
   ]
  }
 ],
 "metadata": {
  "kernelspec": {
   "display_name": "cognitive",
   "language": "python",
   "name": "python3"
  },
  "language_info": {
   "codemirror_mode": {
    "name": "ipython",
    "version": 3
   },
   "file_extension": ".py",
   "mimetype": "text/x-python",
   "name": "python",
   "nbconvert_exporter": "python",
   "pygments_lexer": "ipython3",
   "version": "3.11.0"
  }
 },
 "nbformat": 4,
 "nbformat_minor": 2
}
